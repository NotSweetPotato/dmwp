{
 "cells": [
  {
   "cell_type": "code",
   "execution_count": null,
   "id": "0",
   "metadata": {},
   "outputs": [],
   "source": [
    "from sympy import FiniteSet\n",
    "from fractions import Fraction\n",
    "\n",
    "s = FiniteSet(2, 1.5, Fraction(1, 5))\n",
    "s, len(s)"
   ]
  },
  {
   "cell_type": "code",
   "execution_count": null,
   "id": "1",
   "metadata": {},
   "outputs": [],
   "source": [
    "1.5 in s"
   ]
  },
  {
   "cell_type": "code",
   "execution_count": null,
   "id": "2",
   "metadata": {},
   "outputs": [],
   "source": [
    "FiniteSet()"
   ]
  },
  {
   "cell_type": "code",
   "execution_count": null,
   "id": "3",
   "metadata": {},
   "outputs": [],
   "source": [
    "members = [1,2,3,2]\n",
    "FiniteSet(*members)"
   ]
  },
  {
   "cell_type": "code",
   "execution_count": null,
   "id": "4",
   "metadata": {},
   "outputs": [],
   "source": [
    "FiniteSet(3,4,5) == FiniteSet(5,4,3)"
   ]
  },
  {
   "cell_type": "code",
   "execution_count": null,
   "id": "5",
   "metadata": {},
   "outputs": [],
   "source": [
    "s1 = FiniteSet(1)\n",
    "s2 = FiniteSet(1,2)\n",
    "\n",
    "s1.is_subset(s2), s2.is_superset(s1)"
   ]
  },
  {
   "cell_type": "code",
   "execution_count": null,
   "id": "6",
   "metadata": {},
   "outputs": [],
   "source": [
    "s2.powerset(), type(s2.powerset())"
   ]
  },
  {
   "cell_type": "code",
   "execution_count": null,
   "id": "7",
   "metadata": {},
   "outputs": [],
   "source": [
    "s1 = FiniteSet(1,2,3)\n",
    "s2 = FiniteSet(1,2,3)\n",
    "\n",
    "s1.is_proper_subset(s2), s2.is_proper_superset(s1)"
   ]
  },
  {
   "cell_type": "code",
   "execution_count": null,
   "id": "8",
   "metadata": {},
   "outputs": [],
   "source": [
    "s1 = FiniteSet(1,2,3)\n",
    "s2 = FiniteSet(2,4,6)\n",
    "\n",
    "s1.union(s2), s2.intersect(s1)"
   ]
  },
  {
   "cell_type": "code",
   "execution_count": null,
   "id": "9",
   "metadata": {},
   "outputs": [],
   "source": [
    "s3 = FiniteSet(3,6,7)\n",
    "\n",
    "s1.union(s2).union(s3), s1.intersect(s2).intersect(s3)"
   ]
  },
  {
   "cell_type": "code",
   "execution_count": null,
   "id": "10",
   "metadata": {},
   "outputs": [],
   "source": [
    "s1 = FiniteSet(1, 2)\n",
    "s2 = FiniteSet(3, 4)\n",
    "\n",
    "p = s1 * s2\n",
    "for elem in p:\n",
    "    print(elem)"
   ]
  },
  {
   "cell_type": "code",
   "execution_count": null,
   "id": "11",
   "metadata": {},
   "outputs": [],
   "source": [
    "p = s1 ** 3\n",
    "\n",
    "for elem in p:\n",
    "    print(elem)"
   ]
  },
  {
   "cell_type": "code",
   "execution_count": null,
   "id": "12",
   "metadata": {},
   "outputs": [],
   "source": [
    "def prob(space, event):\n",
    "    return len(event) / len(space)\n",
    "\n",
    "def check_prime(num):\n",
    "    for factor in range(2, num):\n",
    "        if num % factor == 0:\n",
    "            return False\n",
    "    return True\n",
    "\n",
    "space = FiniteSet(*range(2, 21))\n",
    "primes = []\n",
    "for num in space:\n",
    "    if check_prime(num):\n",
    "        primes.append(num)\n",
    "event = FiniteSet(*primes)\n",
    "\n",
    "print(space)\n",
    "print(event)\n",
    "print(prob(space, event))"
   ]
  },
  {
   "cell_type": "code",
   "execution_count": null,
   "id": "13",
   "metadata": {},
   "outputs": [],
   "source": [
    "s = FiniteSet(1,2,3,4,5,6)\n",
    "a = FiniteSet(2,3,5)\n",
    "b = FiniteSet(1,3,5)\n",
    "\n",
    "len(a.union(b)) / len(s), len(a.intersect(b)) / len(s)"
   ]
  },
  {
   "cell_type": "code",
   "execution_count": null,
   "id": "14",
   "metadata": {},
   "outputs": [],
   "source": [
    "import random\n",
    "\n",
    "random.randint(1, 6)"
   ]
  },
  {
   "cell_type": "code",
   "execution_count": null,
   "id": "15",
   "metadata": {},
   "outputs": [],
   "source": [
    "score = 0\n",
    "while score < 20:\n",
    "    v = random.randint(1, 6)\n",
    "    score += v\n",
    "    print(v, score)"
   ]
  },
  {
   "cell_type": "code",
   "execution_count": null,
   "id": "16",
   "metadata": {},
   "outputs": [],
   "source": [
    "def find_proc(targ_score, max_rolls):\n",
    "    s = FiniteSet(1, 2, 3, 4, 5, 6) ** max_rolls\n",
    "    res = []\n",
    "    for elem in s:\n",
    "        if sum(elem) >= targ_score:\n",
    "            res.append(elem)\n",
    "\n",
    "    print(len(res))\n",
    "    print(res)\n",
    "    print(len(res) / len(s))\n",
    "\n",
    "find_proc(25, 5)"
   ]
  },
  {
   "cell_type": "code",
   "execution_count": null,
   "id": "17",
   "metadata": {},
   "outputs": [],
   "source": [
    "def get_idx(probs):\n",
    "    n = random.random()\n",
    "    prob_sum = 0\n",
    "    prob_len = len(probs)\n",
    "    for i in range(prob_len):\n",
    "        prob_sum += probs[i]\n",
    "        if (prob_sum >= n):\n",
    "            return i\n",
    "    return prob_len - 1\n",
    "\n",
    "dollar_bills = [5, 10, 20, 50]\n",
    "probs = [1/3, 1/3, 1/6, 1/6]\n",
    "\n",
    "res = [dollar_bills[get_idx(probs)] for _ in range(0, 60000)]\n",
    "\n",
    "from collections import Counter\n",
    "Counter(res)"
   ]
  },
  {
   "cell_type": "code",
   "execution_count": null,
   "id": "18",
   "metadata": {},
   "outputs": [],
   "source": [
    "from matplotlib_venn import venn2\n",
    "import matplotlib.pyplot as plt\n",
    "\n",
    "def draw_venn(set1, set2):\n",
    "    venn2(subsets=(set1, set2))\n",
    "    plt.show()\n",
    "\n",
    "draw_venn(FiniteSet(1,2,3,4,5,6), FiniteSet(8,7,6,5,4))"
   ]
  },
  {
   "cell_type": "code",
   "execution_count": null,
   "id": "19",
   "metadata": {},
   "outputs": [],
   "source": [
    "# Law of Large Numbers\n",
    "def lln(num):\n",
    "    sum = 0\n",
    "    for i in range(num):\n",
    "        sum += random.randint(1, 6)\n",
    "    return sum / num\n",
    "\n",
    "print(lln(100))\n",
    "print(lln(1000))\n",
    "print(lln(10000))\n",
    "print(lln(100000))\n",
    "print(lln(500000))"
   ]
  },
  {
   "cell_type": "code",
   "execution_count": null,
   "id": "20",
   "metadata": {},
   "outputs": [],
   "source": [
    "def lose_money(init_money):\n",
    "    cnt = 0\n",
    "    while init_money > 0:\n",
    "        cnt += 1\n",
    "        diff = 1 if random.randint(0, 1) else -1.5\n",
    "        init_money += diff\n",
    "        print(init_money)\n",
    "    print(cnt)\n",
    "\n",
    "lose_money(4)"
   ]
  },
  {
   "cell_type": "code",
   "execution_count": null,
   "id": "21",
   "metadata": {},
   "outputs": [],
   "source": [
    "def in_cir(x, y, r):\n",
    "    return x ** 2 + y ** 2 <= r ** 2\n",
    "\n",
    "def estimate_pi(num):\n",
    "    r = 1\n",
    "    N = 0\n",
    "    M = 0\n",
    "\n",
    "    for _ in range(num):\n",
    "        x = (random.random() * 2 - 1) * r\n",
    "        y = (random.random() * 2 - 1) * r\n",
    "\n",
    "        M += 1\n",
    "        N += 1 if in_cir(x, y, r) else 0\n",
    "\n",
    "    return 4 * N / M\n",
    "\n",
    "estimate_pi(100000)"
   ]
  }
 ],
 "metadata": {
  "kernelspec": {
   "display_name": "Python 3",
   "language": "python",
   "name": "python3"
  },
  "language_info": {
   "codemirror_mode": {
    "name": "ipython",
    "version": 3
   },
   "file_extension": ".py",
   "mimetype": "text/x-python",
   "name": "python",
   "nbconvert_exporter": "python",
   "pygments_lexer": "ipython3",
   "version": "3.12.7"
  }
 },
 "nbformat": 4,
 "nbformat_minor": 5
}
