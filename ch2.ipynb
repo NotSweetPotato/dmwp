{
 "cells": [
  {
   "cell_type": "code",
   "execution_count": null,
   "id": "0",
   "metadata": {},
   "outputs": [],
   "source": [
    "x_nums = [1,2,3]\n",
    "y_nums = [4,5,6]"
   ]
  },
  {
   "cell_type": "code",
   "execution_count": null,
   "id": "1",
   "metadata": {},
   "outputs": [],
   "source": [
    "from pylab import plot, show\n",
    "plot(x_nums, y_nums, 'o')\n",
    "show()"
   ]
  },
  {
   "cell_type": "code",
   "execution_count": null,
   "id": "2",
   "metadata": {},
   "outputs": [],
   "source": [
    "nyc_temp = [53.9, 56.3, 56.4, 53.4, 54.5, 55.8, 56.8, 55.0, 55.3, 54.0, 56.7, 56.4, 57.3]\n",
    "years = range(2000, 2013)\n",
    "plot(years, nyc_temp, marker=\"o\")\n",
    "show()"
   ]
  },
  {
   "cell_type": "code",
   "execution_count": null,
   "id": "3",
   "metadata": {},
   "outputs": [],
   "source": [
    "nyc_temp_2000 = [31.3, 37.3, 47.2, 51.0, 63.5, 71.3, 72.3, 72.7, 66.0, 57.0, 45.3, 31.1]\n",
    "nyc_temp_2006 = [40.9, 35.7, 43.1, 55.7, 63.1, 71.0, 77.9, 75.8, 66.6, 56.2, 51.9, 43.6]\n",
    "nyc_temp_2012 = [37.3, 40.9, 50.9, 54.8, 65.1, 71.0, 78.8, 76.7, 68.8, 58.0, 43.9, 41.5]\n",
    "\n",
    "months = range(1, 13)\n",
    "\n",
    "plot(months, nyc_temp_2000)\n",
    "plot(months, nyc_temp_2006)\n",
    "plot(months, nyc_temp_2012)\n",
    "\n",
    "show()"
   ]
  },
  {
   "cell_type": "code",
   "execution_count": null,
   "id": "4",
   "metadata": {},
   "outputs": [],
   "source": [
    "from pylab import legend, axis\n",
    "\n",
    "plot(months, nyc_temp_2000)\n",
    "plot(months, nyc_temp_2006)\n",
    "plot(months, nyc_temp_2012)\n",
    "\n",
    "legend([2000, 2006, 2012])\n",
    "\n",
    "axis(ymin=0)\n",
    "\n",
    "show()"
   ]
  },
  {
   "cell_type": "code",
   "execution_count": null,
   "id": "5",
   "metadata": {},
   "outputs": [],
   "source": [
    "import matplotlib.pyplot as plt\n",
    "\n",
    "def draw_graph(x, y):\n",
    "    plt.plot(x, y, marker=\"o\")\n",
    "    plt.xlabel(\"Distance\")\n",
    "    plt.ylabel(\"Gravitational force\")\n",
    "    plt.show()\n",
    "\n",
    "def generate_F_r():\n",
    "    r = range(100, 1001, 50)\n",
    "    F = []\n",
    "\n",
    "    G = 6.674 * (10 ** -11)\n",
    "    m1 = 0.5\n",
    "    m2 = 1.5\n",
    "\n",
    "    for dist in r:\n",
    "        F.append(m1 * m2 * G / (dist**2))\n",
    "\n",
    "    draw_graph(r, F)\n",
    "\n",
    "generate_F_r()"
   ]
  },
  {
   "cell_type": "code",
   "execution_count": null,
   "id": "6",
   "metadata": {},
   "outputs": [],
   "source": [
    "import math\n",
    "\n",
    "def frange(start, end, step):\n",
    "    nums = []\n",
    "    while (start < end):\n",
    "        nums.append(start)\n",
    "        start = start + step\n",
    "\n",
    "    return nums\n",
    "\n",
    "def draw_graph(x, y):\n",
    "    plt.plot(x, y)\n",
    "    plt.xlabel(\"time\")\n",
    "    plt.ylabel(\"height\")\n",
    "\n",
    "def draw_trajectory(u, theta):\n",
    "    g = 9.8\n",
    "    theta = math.radians(theta)\n",
    "    total_t = 2 * u * math.sin(theta) / g\n",
    "\n",
    "    intervals = frange(0, total_t+0.001, 0.001)\n",
    "\n",
    "    x = []\n",
    "    y = []\n",
    "    for t in intervals:\n",
    "        x.append(u * math.cos(theta) * t)\n",
    "        y.append(u * math.sin(theta) * t - 0.5 * g * (t**2))\n",
    "\n",
    "    draw_graph(x, y)\n",
    "\n",
    "\n",
    "for u in [20, 40, 60]:\n",
    "    draw_trajectory(u, 20)\n",
    "\n",
    "plt.legend(['20', '40', '60'])\n",
    "plt.show()"
   ]
  },
  {
   "cell_type": "code",
   "execution_count": null,
   "id": "7",
   "metadata": {},
   "outputs": [],
   "source": [
    "def fibo(n):\n",
    "    nums = []\n",
    "    for i in range(n):\n",
    "        if i < 2:\n",
    "            nums.append(1)\n",
    "        else:\n",
    "            nums.append(nums[i-1] + nums[i-2])\n",
    "    return nums\n",
    "\n",
    "nums = fibo(1000)\n",
    "y = []\n",
    "for i in range(1, len(nums)):\n",
    "    y.append(nums[i] / nums[i-1])\n",
    "\n",
    "plt.plot(y)"
   ]
  }
 ],
 "metadata": {
  "kernelspec": {
   "display_name": "Python 3",
   "language": "python",
   "name": "python3"
  },
  "language_info": {
   "codemirror_mode": {
    "name": "ipython",
    "version": 3
   },
   "file_extension": ".py",
   "mimetype": "text/x-python",
   "name": "python",
   "nbconvert_exporter": "python",
   "pygments_lexer": "ipython3",
   "version": "3.12.7"
  }
 },
 "nbformat": 4,
 "nbformat_minor": 5
}
