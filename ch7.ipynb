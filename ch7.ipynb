{
 "cells": [
  {
   "cell_type": "code",
   "execution_count": null,
   "id": "0",
   "metadata": {},
   "outputs": [],
   "source": [
    "import math\n",
    "import sympy\n",
    "\n",
    "sympy.sin(math.pi / 2)"
   ]
  },
  {
   "cell_type": "code",
   "execution_count": null,
   "id": "1",
   "metadata": {},
   "outputs": [],
   "source": [
    "from sympy import Symbol\n",
    "\n",
    "theta = Symbol('theta')\n",
    "sympy.sin(theta) + sympy.sin(theta)"
   ]
  },
  {
   "cell_type": "code",
   "execution_count": null,
   "id": "2",
   "metadata": {},
   "outputs": [],
   "source": [
    "from sympy import solve, sin\n",
    "\n",
    "u = Symbol('u')\n",
    "t = Symbol('t')\n",
    "g = Symbol('g')\n",
    "solve(u * sin(theta) - g * t, t)"
   ]
  },
  {
   "cell_type": "code",
   "execution_count": null,
   "id": "3",
   "metadata": {},
   "outputs": [],
   "source": [
    "x = Symbol('x', positive=True)\n",
    "if x + 5 > 0:\n",
    "    print('1')\n",
    "else:\n",
    "    print('2')"
   ]
  },
  {
   "cell_type": "code",
   "execution_count": null,
   "id": "4",
   "metadata": {},
   "outputs": [],
   "source": [
    "from sympy.plotting import plot\n",
    "\n",
    "expr = 1 / x\n",
    "plot(expr, (x, 0.1, 20))"
   ]
  },
  {
   "cell_type": "code",
   "execution_count": null,
   "id": "5",
   "metadata": {},
   "outputs": [],
   "source": [
    "from sympy import Limit, S\n",
    "\n",
    "l = Limit(1 / x, x, S.Infinity)\n",
    "l.doit()"
   ]
  },
  {
   "cell_type": "code",
   "execution_count": null,
   "id": "6",
   "metadata": {},
   "outputs": [],
   "source": [
    "Limit(1 / x, x, 0, dir='-').doit(), Limit(1 / x, x, 0, dir='+').doit()"
   ]
  },
  {
   "cell_type": "code",
   "execution_count": null,
   "id": "7",
   "metadata": {},
   "outputs": [],
   "source": [
    "Limit(sin(x) / x, x, 0).doit()"
   ]
  },
  {
   "cell_type": "code",
   "execution_count": null,
   "id": "8",
   "metadata": {},
   "outputs": [],
   "source": [
    "n = Symbol('n')\n",
    "p = Symbol('p')\n",
    "r = Symbol('r')\n",
    "t = Symbol('t')\n",
    "\n",
    "Limit(p * (1 + r / n) ** (n * t), n, S.Infinity).doit()"
   ]
  },
  {
   "cell_type": "code",
   "execution_count": null,
   "id": "9",
   "metadata": {},
   "outputs": [],
   "source": [
    "S = 5 * t ** 2 + 2 * t + 8\n",
    "t1 = Symbol('t1')\n",
    "delta = Symbol('delta')\n",
    "\n",
    "S1 = S.subs({t: t1})\n",
    "S2 = S.subs({t: t1 + delta})\n",
    "Limit((S2 - S1) / delta, delta, 0).doit()"
   ]
  },
  {
   "cell_type": "code",
   "execution_count": null,
   "id": "10",
   "metadata": {},
   "outputs": [],
   "source": [
    "from sympy import Derivative\n",
    "\n",
    "Derivative(S, t), Derivative(S, t).doit()"
   ]
  },
  {
   "cell_type": "code",
   "execution_count": null,
   "id": "11",
   "metadata": {},
   "outputs": [],
   "source": [
    "Derivative(S, t).doit().subs({t: 1})"
   ]
  },
  {
   "cell_type": "code",
   "execution_count": null,
   "id": "12",
   "metadata": {},
   "outputs": [],
   "source": [
    "f = (x ** 3 + x ** 2 + x) * (x ** 2 + x)\n",
    "d = Derivative(f, x)\n",
    "d"
   ]
  },
  {
   "cell_type": "code",
   "execution_count": null,
   "id": "13",
   "metadata": {},
   "outputs": [],
   "source": [
    "d.doit()"
   ]
  },
  {
   "cell_type": "code",
   "execution_count": null,
   "id": "14",
   "metadata": {},
   "outputs": [],
   "source": [
    "y = Symbol('y')\n",
    "f = 2 * x * y + x * y ** 2\n",
    "Derivative(f, x).doit()"
   ]
  },
  {
   "cell_type": "code",
   "execution_count": null,
   "id": "15",
   "metadata": {},
   "outputs": [],
   "source": [
    "x = Symbol('x')\n",
    "expr = x**5 - 30*x**3 + 50*x\n",
    "plot(expr, (x, -5, 5))"
   ]
  },
  {
   "cell_type": "code",
   "execution_count": null,
   "id": "16",
   "metadata": {},
   "outputs": [],
   "source": [
    "d1 = Derivative(expr, x).doit()\n",
    "solve(d1)"
   ]
  },
  {
   "cell_type": "code",
   "execution_count": null,
   "id": "17",
   "metadata": {},
   "outputs": [],
   "source": [
    "from sympy import cos\n",
    "\n",
    "R = u * cos(theta) * 2 * u * sin(theta) / g\n",
    "R = R.simplify()\n",
    "R"
   ]
  },
  {
   "cell_type": "code",
   "execution_count": null,
   "id": "18",
   "metadata": {},
   "outputs": [],
   "source": [
    "plot(R.subs({g: 9.8, u: 25}), (theta, 0, sympy.pi / 2))"
   ]
  },
  {
   "cell_type": "code",
   "execution_count": null,
   "id": "19",
   "metadata": {},
   "outputs": [],
   "source": [
    "def grad_ascent(x0, f1x, x):\n",
    "    epsilon = 1e-6\n",
    "    step_size = 1e-4\n",
    "    x_old = x0\n",
    "    x_new = x_old + step_size * f1x.subs({x:x_old}).evalf()\n",
    "    while abs(x_old - x_new) > epsilon:\n",
    "        x_old = x_new\n",
    "        x_new = x_old + step_size * f1x.subs({x:x_old}).evalf()\n",
    "    return x_new\n",
    "\n",
    "def find_max_theta(R, theta):\n",
    "    R1theta = Derivative(R, theta).doit()\n",
    "    theta0 = 1e-3\n",
    "    theta_max = grad_ascent(theta0, R1theta, theta)\n",
    "    return theta_max\n",
    "\n",
    "R1 = R.subs({g: 9.8, u: 25})\n",
    "find_max_theta(R1, theta)"
   ]
  },
  {
   "cell_type": "code",
   "execution_count": null,
   "id": "20",
   "metadata": {},
   "outputs": [],
   "source": [
    "from sympy import Integral\n",
    "\n",
    "x = Symbol('x')\n",
    "k = Symbol('k')\n",
    "Integral(k * x, x), Integral(k * x, x).doit()"
   ]
  },
  {
   "cell_type": "code",
   "execution_count": null,
   "id": "21",
   "metadata": {},
   "outputs": [],
   "source": [
    "Integral(k * x, (x, 0, 2)).doit()"
   ]
  },
  {
   "cell_type": "code",
   "execution_count": null,
   "id": "22",
   "metadata": {},
   "outputs": [],
   "source": [
    "Integral(x, (x, 2, 4)).doit()"
   ]
  },
  {
   "cell_type": "code",
   "execution_count": null,
   "id": "23",
   "metadata": {},
   "outputs": [],
   "source": [
    "from sympy import exp, sqrt, pi\n",
    "\n",
    "p = exp(-(x-10)**2 / 2) / sqrt(2 * pi)\n",
    "p"
   ]
  },
  {
   "cell_type": "code",
   "execution_count": null,
   "id": "24",
   "metadata": {},
   "outputs": [],
   "source": [
    "plot(p, (x, 0, 20))"
   ]
  },
  {
   "cell_type": "code",
   "execution_count": null,
   "id": "25",
   "metadata": {},
   "outputs": [],
   "source": [
    "Integral(p, (x, 11, 12)).doit().evalf()"
   ]
  },
  {
   "cell_type": "code",
   "execution_count": null,
   "id": "26",
   "metadata": {},
   "outputs": [],
   "source": [
    "from sympy import S\n",
    "\n",
    "Integral(p, (x, -S.Infinity, S.Infinity)).doit()"
   ]
  },
  {
   "cell_type": "code",
   "execution_count": null,
   "id": "27",
   "metadata": {},
   "outputs": [],
   "source": [
    "f = x\n",
    "g = x ** 2\n",
    "plot(f, g, (x, 0, 1))"
   ]
  },
  {
   "cell_type": "code",
   "execution_count": null,
   "id": "28",
   "metadata": {},
   "outputs": [],
   "source": [
    "Integral(f - g, (x, 0, 1)).doit()"
   ]
  },
  {
   "cell_type": "code",
   "execution_count": null,
   "id": "29",
   "metadata": {},
   "outputs": [],
   "source": [
    "f = 2 * x**2 + 3 * x + 1\n",
    "s = sqrt(1 + Derivative(f, x).doit() ** 2)\n",
    "Integral(s, (x, -5, 10)).doit()"
   ]
  }
 ],
 "metadata": {
  "kernelspec": {
   "display_name": "Python 3",
   "language": "python",
   "name": "python3"
  },
  "language_info": {
   "codemirror_mode": {
    "name": "ipython",
    "version": 3
   },
   "file_extension": ".py",
   "mimetype": "text/x-python",
   "name": "python",
   "nbconvert_exporter": "python",
   "pygments_lexer": "ipython3",
   "version": "3.12.7"
  }
 },
 "nbformat": 4,
 "nbformat_minor": 5
}
