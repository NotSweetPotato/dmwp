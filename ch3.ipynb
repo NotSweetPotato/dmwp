{
 "cells": [
  {
   "cell_type": "code",
   "execution_count": null,
   "id": "0",
   "metadata": {},
   "outputs": [],
   "source": [
    "def mean(nums):\n",
    "    s = sum(nums)\n",
    "    n = len(nums)\n",
    "\n",
    "    return s / n\n",
    "\n",
    "donations = [100, 60, 70, 900, 100, 200, 500, 500, 503, 600, 1000, 1200]\n",
    "mean(donations)"
   ]
  },
  {
   "cell_type": "code",
   "execution_count": null,
   "id": "1",
   "metadata": {},
   "outputs": [],
   "source": [
    "def median(nums):\n",
    "    n = len(nums)\n",
    "    nums.sort()\n",
    "\n",
    "    if n % 2 == 0:\n",
    "        return (nums[n // 2 - 1] + nums[n // 2]) / 2\n",
    "    else:\n",
    "        return nums[n // 2]\n",
    "    \n",
    "print(median(donations))\n",
    "\n",
    "donations = [100, 60, 70, 900, 100, 200, 500, 500, 503, 600, 1000, 1200, 800]\n",
    "print(median(donations))"
   ]
  },
  {
   "cell_type": "code",
   "execution_count": null,
   "id": "2",
   "metadata": {},
   "outputs": [],
   "source": [
    "from collections import Counter\n",
    "\n",
    "def mode(nums):\n",
    "    c = Counter(nums)\n",
    "    return c.most_common(1)[0][0]\n",
    "\n",
    "scores = [7, 8, 9, 2, 10, 9, 9, 9, 9, 4, 5, 6, 1, 5, 6, 7, 8, 6, 1, 10]\n",
    "mode(scores)"
   ]
  },
  {
   "cell_type": "code",
   "execution_count": null,
   "id": "3",
   "metadata": {},
   "outputs": [],
   "source": [
    "def frequency_tbl(nums):\n",
    "    c = Counter(nums)\n",
    "\n",
    "    print(\"number\\tfrequency\")\n",
    "\n",
    "    for [n, f] in c.most_common():\n",
    "        print(\"{0}\\t{1}\".format(n, f))\n",
    "\n",
    "frequency_tbl(scores)"
   ]
  },
  {
   "cell_type": "code",
   "execution_count": null,
   "id": "4",
   "metadata": {},
   "outputs": [],
   "source": [
    "def find_range(nums):\n",
    "    lowest = min(nums)\n",
    "    highest = max(nums)\n",
    "    return lowest, highest, highest - lowest\n",
    "\n",
    "find_range(donations)"
   ]
  },
  {
   "cell_type": "code",
   "execution_count": null,
   "id": "5",
   "metadata": {},
   "outputs": [],
   "source": [
    "import matplotlib.pyplot as plt\n",
    "\n",
    "def variance(nums):\n",
    "    mn = mean(nums)\n",
    "\n",
    "    diff = [(n - mn) ** 2 for n in nums]\n",
    "    return mean(diff)\n",
    "\n",
    "def std_deviation(var):\n",
    "    return var ** 0.5\n",
    "\n",
    "donations = [100, 60, 70, 900, 100, 200, 500, 500, 503, 600, 1000, 1200]\n",
    "\n",
    "var = variance(donations)\n",
    "print(var, std_deviation(var))\n",
    "\n",
    "plt.plot(donations)\n",
    "\n",
    "donations = [382, 389, 377, 397, 396, 368, 369, 392, 398, 367, 393, 396]\n",
    "var = variance(donations)\n",
    "print(var, std_deviation(var))\n",
    "\n",
    "plt.plot(donations)\n",
    "plt.show()"
   ]
  },
  {
   "cell_type": "code",
   "execution_count": null,
   "id": "6",
   "metadata": {},
   "outputs": [],
   "source": [
    "import math\n",
    "\n",
    "def corr_x_y(x, y):\n",
    "    n = len(x)\n",
    "    sum_prod_xy = sum([xi * yi for [xi, yi] in zip(x, y)])\n",
    "\n",
    "    sum_x = sum(x)\n",
    "    sum_y = sum(y)\n",
    "\n",
    "    sum_x_2 = sum([xi ** 2 for xi in x])\n",
    "    sum_y_2 = sum([yi ** 2 for yi in y])\n",
    "\n",
    "    numerator = (n * sum_prod_xy) - (sum_x * sum_y)\n",
    "    denominator_1 = (n * sum_x_2) - (sum_x ** 2)\n",
    "    denominator_2 = (n * sum_y_2) - (sum_y ** 2)    \n",
    "\n",
    "    return numerator / math.sqrt(denominator_1 * denominator_2)\n",
    "\n",
    "hsg = [90, 92, 95, 96, 87, 87, 90, 95, 98, 96]\n",
    "cts = [85, 87, 86, 97, 96, 88, 89, 98, 98, 87]\n",
    "\n",
    "print(corr_x_y(hsg, cts))\n",
    "\n",
    "plt.scatter(hsg, cts)\n",
    "\n",
    "hsg = [83, 85, 84, 96, 94, 86, 87, 97, 97, 85]\n",
    "print(corr_x_y(hsg, cts))\n",
    "plt.scatter(hsg, cts)\n",
    "plt.legend(['hsg-cts', 'hsg(math)-cts'])\n",
    "plt.show()"
   ]
  },
  {
   "cell_type": "code",
   "execution_count": null,
   "id": "7",
   "metadata": {},
   "outputs": [],
   "source": [
    "donations = []\n",
    "with open('data/mydata.txt') as f:\n",
    "    for line in f:\n",
    "        donations.append(float(line.strip()))\n",
    "\n",
    "print(sum(donations), mean(donations))"
   ]
  },
  {
   "cell_type": "code",
   "execution_count": null,
   "id": "8",
   "metadata": {},
   "outputs": [],
   "source": [
    "import csv\n",
    "\n",
    "with open('data/myf.csv') as f:\n",
    "    nums = []\n",
    "    sqrs = []\n",
    "\n",
    "    reader = csv.reader(f)\n",
    "    next(reader)\n",
    "    for row in reader:\n",
    "        nums.append(int(row[0]))\n",
    "        sqrs.append(int(row[1]))\n",
    "\n",
    "plt.scatter(nums, sqrs)"
   ]
  },
  {
   "cell_type": "code",
   "execution_count": null,
   "id": "9",
   "metadata": {},
   "outputs": [],
   "source": [
    "scores = [5, 1, 9, 3, 14, 9, 7]\n",
    "\n",
    "def percentile(nums, p):\n",
    "    nums.sort()\n",
    "\n",
    "    i = len(nums) * p / 100 + 0.5\n",
    "\n",
    "    if i.is_integer():\n",
    "        return nums[int(i) - 1]\n",
    "    else:\n",
    "        k = int(i)\n",
    "        f = i - k\n",
    "        return (1-f) * nums[k - 1] + f * nums[k]\n",
    "\n",
    "percentile(scores, 25)"
   ]
  }
 ],
 "metadata": {
  "kernelspec": {
   "display_name": "Python 3",
   "language": "python",
   "name": "python3"
  },
  "language_info": {
   "codemirror_mode": {
    "name": "ipython",
    "version": 3
   },
   "file_extension": ".py",
   "mimetype": "text/x-python",
   "name": "python",
   "nbconvert_exporter": "python",
   "pygments_lexer": "ipython3",
   "version": "3.12.7"
  }
 },
 "nbformat": 4,
 "nbformat_minor": 5
}
